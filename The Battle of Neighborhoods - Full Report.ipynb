{
    "cells": [
        {
            "attachments": {},
            "cell_type": "markdown",
            "metadata": {},
            "source": "# Problem and Background\n\nIn the summer of 2021 The Toronto City Council commissioned a detailed analysis of the city infrastructure. The goal is to identify future areas of investment aiming to improve general \"liveability\" for Toronto's residents and furthermore make the city more attractive to global talent - especially important considering the growing start-up scene.\n\nThis task was divided into several priority areas. The first, which will be the focus of this analysis, is to determine how well parks and green areas have been integrated into the city infrastructure as various research has shown that: \n\n_\"City parks provide access to recreational opportunities, increase property values, spur local economies, combat crime, and protect cities from environmental impact.\"_   \nSource: https://cityparksalliance.org/about-us/why-city-parks-matter/\n\nFurthermore, according to the latest report from The Intergovernmental Panel on Climate Change (IPCC, https://www.ipcc.ch/report/ar6/wg1/) focusing on urban areas is essential in preparing for climate change:\n\n_\"For cities, some aspects of climate change may be amplified, including heat (since urban areas are usually warmer than their surroundings), flooding from heavy precipitation events and sea level rise in coastal cities.\"_  \nSource: https://www.ipcc.ch/2021/08/09/ar6-wg1-20210809-pr/\n\nAccording to various rankings on the world's greenest cities, Toronto is unfortunately nowhere to be found, which could be an indication that this focus area has room for improvement! Examples include:  https://www.afar.com/magazine/greenest-cities-in-the-world-in-2020 and https://assets.new.siemens.com/siemens/assets/api/uuid:cf26889b-3254-4dcb-bc50-fef7e99cb3c7/gci-report-summary.pdf. \n\nIt is however not straightforward to simply increase green areas wherever possible: \n\n_\"Park planning and design represents a complex process that begins with the decision to create a park and ends with the final construction and subsequent use of the park. A design context, design concepts study is an important step in park development which should precede the development of the site plan and working drawings. Design context examines community and resident needs, potential user demand, and site analysis [\u2026].\"_  \nSource: https://js.sagamorepub.com/jpra/article/view/1849\n\n_\u201cTypically, a park project gets started through a demonstrated need from surveys of community members, and other public input that is incorporated into the city\u2019s Comprehensive Plan and the Parks and Recreation Open Space (PROS) Plan,\u201d [\u2026]_  \nSource: https://www.nrpa.org/parks-recreation-magazine/2017/march/from-concept-to-reality/\n\nAll in all, there seems to be valid support in arguing that the further development of parks and green areas in Toronto needs to be prioritized. The question is of course where to start. A survey of community members, as suggested above could yield helpful information. However, first of all this would require some background analysis in order for the questions be structured in a way that would render enough useful information. Secondly, the results need to be seen in context in order to determine the highest return on investment. Hence, it has been suggested to start with a benchmarking analysis comparing Toronto to a similar city known for its focus on green urban areas. For this analysis, Berlin has been chosen. It consistently ranks in the top of the greenest cities worldwide (see links above), is of similar size (although slightly bigger) and like Toronto also has a diverse population and a growing start-up scene. "
        },
        {
            "attachments": {},
            "cell_type": "markdown",
            "metadata": {},
            "source": "# Data and Problem-solving\n\nThe analysis and comparison of Toronto and Berlin will be based on the \"venues\" by neighbourhood as listed by \nFoursquare's location data. \n\nBoth cities compromise a very high number of neighbourhoods as defined by postal code, which should make it possible to generate data detailed enough for a thorough analysis of the infrastructure.  It should be acknowledged that the postal code system differs between the cities, hence the neighbourhoods might be of varying sizes. Nevertheless this deemed to be an acceptable approach for a first-round analysis considering time and resources needed.\n\nPostal codes for both cities are widely available via public sources. For our project the following sources have been selected - a quick crosscheck with other information providers could validate the quality of the information listed here: \n\nToronto:  https://en.wikipedia.org/wiki/List_of_postal_codes_of_Canada:_M  \nBerlin:  https://www.dasoertliche.de/Themen/Postleitzahlen/Berlin.html\n\nThese sources were used to provide input for the Foursquare API in order to identify the venues by postal code (neighbourhood):\n\n_\"Foursquare summarizes data from thousands of references, incorporates validation and user-generated content from app and Super Users, and checks our POI against geographic assets\"_  \nSource: https://foursquare.com/products/places/\n\nAlthough auto-generated content should always be handled with care, it is assumed that Foursquare - one of the most widely used location service providers - overall will show a true picture of city infrastructure. Furthermore, the venues identified cover a large number of categories, ranging from stores and restaurants to museums and stadiums. These categories, although not complete, are highly detailed and focus on some of the main characteristics of what makes up local communities. Hence the Foursquare venues seem adequate for our analysis. \n\nThe Foursquare venue information was then used to only select neighbourhoods which included \"park\" for further analysis. However, no further criteria such as the size of the park was taken into account. This might be an important factor to be considered in future analyses. \n\nThe dataset was clustered using algorithms from the Scikit-Learn library, a widely used machine learning library utilized by companies such as Microsoft and Fujitsu (https://scikit-learn.org/stable/). It was initially developed by David Cournapeau as a Google project (https://en.wikipedia.org/wiki/Scikit-learn).\n\nThe results were subsequently visualised for interpretation and recommendations for next steps."
        }
    ],
    "metadata": {
        "kernelspec": {
            "display_name": "Python 3.8",
            "language": "python",
            "name": "python3"
        },
        "language_info": {
            "codemirror_mode": {
                "name": "ipython",
                "version": 3
            },
            "file_extension": ".py",
            "mimetype": "text/x-python",
            "name": "python",
            "nbconvert_exporter": "python",
            "pygments_lexer": "ipython3",
            "version": "3.8.10"
        }
    },
    "nbformat": 4,
    "nbformat_minor": 1
}